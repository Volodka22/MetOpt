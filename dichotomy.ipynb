{
 "cells": [
  {
   "cell_type": "code",
   "execution_count": 3,
   "metadata": {},
   "outputs": [],
   "source": [
    "def dichotomy(f, a, b, eps):\n",
    "    delta = eps / 4\n",
    "    while b - a >= eps:\n",
    "        x1 = (a + b) / 2 - delta\n",
    "        x2 = (a + b) / 2 + delta\n",
    "        f_x1 = f(x1)\n",
    "        f_x2 = f(x2)\n",
    "        if f_x1 < f_x2:\n",
    "            b = x2\n",
    "        elif f_x1 > f_x2:\n",
    "            a = x1\n",
    "        else:\n",
    "            a = x1\n",
    "            b = x2\n",
    "    return (a, b)"
   ]
  }
 ],
 "metadata": {
  "interpreter": {
   "hash": "110de3590074a070b7fa000593dd317e2a74b35ee32dd7b66ce929ba2edb5c1e"
  },
  "kernelspec": {
   "display_name": "Python 3.9.7 ('base')",
   "language": "python",
   "name": "python3"
  },
  "language_info": {
   "codemirror_mode": {
    "name": "ipython",
    "version": 3
   },
   "file_extension": ".py",
   "mimetype": "text/x-python",
   "name": "python",
   "nbconvert_exporter": "python",
   "pygments_lexer": "ipython3",
   "version": "3.9.7"
  },
  "orig_nbformat": 4
 },
 "nbformat": 4,
 "nbformat_minor": 2
}
