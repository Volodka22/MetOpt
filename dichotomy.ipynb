{
 "cells": [
  {
   "cell_type": "code",
   "execution_count": 11,
   "metadata": {},
   "outputs": [],
   "source": [
    "def dichotomy(f, a_start, b_start, eps):\n",
    "    a = a_start\n",
    "    b = b_start\n",
    "    calls_counter = 0\n",
    "    delta = eps / 2\n",
    "    while b - a >= eps:\n",
    "        mid = (a + b) / 2\n",
    "        while mid + delta > b_start or mid - delta < a_start:\n",
    "            delta /= 2\n",
    "        x1 = mid - delta\n",
    "        x2 = mid + delta\n",
    "        f_x1 = f(x1)\n",
    "        calls_counter += 1\n",
    "        f_x2 = f(x2)\n",
    "        calls_counter += 1\n",
    "        if f_x1 < f_x2:\n",
    "            b = x2\n",
    "        elif f_x1 > f_x2:\n",
    "            a = x1\n",
    "        else:\n",
    "            a = x1\n",
    "            b = x2\n",
    "            delta /= 2\n",
    "    print(\"Calls counter:\", calls_counter)\n",
    "    return f((a + b) / 2)"
   ]
  },
  {
   "cell_type": "code",
   "execution_count": 12,
   "metadata": {},
   "outputs": [],
   "source": [
    "def f(x) :\n",
    "    # return x**4 + 2 * x**3 + 20 * sin(x) * x**2\n",
    "    return x**2 + 5*x + 10"
   ]
  },
  {
   "cell_type": "code",
   "execution_count": 13,
   "metadata": {},
   "outputs": [
    {
     "name": "stdout",
     "output_type": "stream",
     "text": [
      "Calls counter: 6\n"
     ]
    },
    {
     "data": {
      "text/plain": [
       "3.75"
      ]
     },
     "execution_count": 13,
     "metadata": {},
     "output_type": "execute_result"
    }
   ],
   "source": [
    "dichotomy(f, -10, 10, 1e-15)"
   ]
  }
 ],
 "metadata": {
  "interpreter": {
   "hash": "110de3590074a070b7fa000593dd317e2a74b35ee32dd7b66ce929ba2edb5c1e"
  },
  "kernelspec": {
   "display_name": "Python 3.9.7 ('base')",
   "language": "python",
   "name": "python3"
  },
  "language_info": {
   "codemirror_mode": {
    "name": "ipython",
    "version": 3
   },
   "file_extension": ".py",
   "mimetype": "text/x-python",
   "name": "python",
   "nbconvert_exporter": "python",
   "pygments_lexer": "ipython3",
   "version": "3.9.7"
  },
  "orig_nbformat": 4
 },
 "nbformat": 4,
 "nbformat_minor": 2
}
