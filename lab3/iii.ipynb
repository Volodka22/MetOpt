{
  "nbformat": 4,
  "nbformat_minor": 0,
  "metadata": {
    "colab": {
      "name": "iii.ipynb",
      "provenance": [],
      "collapsed_sections": []
    },
    "kernelspec": {
      "name": "python3",
      "display_name": "Python 3"
    },
    "language_info": {
      "name": "python"
    }
  },
  "cells": [
    {
      "cell_type": "code",
      "execution_count": 1,
      "metadata": {
        "id": "JO3PvE8aMlw3"
      },
      "outputs": [],
      "source": [
        "import numpy as np\n",
        "from math import *\n",
        "import matplotlib.pyplot as plt\n",
        "from numpy import linalg as LA\n",
        "\n",
        "# # suppress warnings\n",
        "# import warnings\n",
        "# warnings.filterwarnings(\"ignore\")\n",
        "\n",
        "plt.style.use('dark_background')"
      ]
    },
    {
      "cell_type": "code",
      "source": [
        "class MatrixSolver:\n",
        "    \n",
        "    def __init__(self, h):\n",
        "        self.h = h\n",
        "\n",
        "    # compute gradinent of function f in point x with step h\n",
        "    def grad(self, x, f):\n",
        "        derivative = np.arange(np.size(x))\n",
        "        for i in range(np.size(x)):\n",
        "            x[i] += self.h\n",
        "            f1 = f(x)\n",
        "            x[i] -= 2 * self.h\n",
        "            f2 = f(x)\n",
        "            x[i] += self.h\n",
        "            derivative[i] = (f1 - f2) / (2 * self.h)\n",
        "        return derivative\n",
        "\n",
        "    # compute Jacobian of functions \\sigma{r1...rn} in point x\n",
        "    def findJacobian(self, rs, x):\n",
        "        J = np.asarray([])\n",
        "        for r in rs:\n",
        "            J = np.append(J, self.grad(x, r))\n",
        "        return J\n",
        "\n",
        "    # compute pseudo inverse of matrix X\n",
        "    def pseudoInverse(self, x):\n",
        "        return np.linalg.inv(x.T @ x) @ x.T\n",
        "\n",
        "    # compute hessian of functions \\sigma{r1...rn} in point x\n",
        "    def findHessian(self, rs, x):\n",
        "        J = self.findJacobian(rs, x)\n",
        "        return 2 * (J.T @ J)"
      ],
      "metadata": {
        "id": "U7aanu1qNb8N"
      },
      "execution_count": 3,
      "outputs": []
    },
    {
      "cell_type": "code",
      "source": [
        "ms = MatrixSolver(1e-5)"
      ],
      "metadata": {
        "id": "KPKGozcpiyMq"
      },
      "execution_count": 4,
      "outputs": []
    },
    {
      "cell_type": "code",
      "source": [
        "class GaussNewton:\n",
        "  \n",
        "    def __init__(self, eps, max_iterations):\n",
        "        self.eps = eps\n",
        "        self.max_iterations = max_iterations\n",
        "\n",
        "    def run(self, )\n"
      ],
      "metadata": {
        "id": "h0EApRIwzj9R"
      },
      "execution_count": null,
      "outputs": []
    }
  ]
}