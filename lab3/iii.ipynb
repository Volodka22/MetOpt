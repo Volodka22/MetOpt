{
  "nbformat": 4,
  "nbformat_minor": 0,
  "metadata": {
    "colab": {
      "name": "iii.ipynb",
      "provenance": [],
      "collapsed_sections": [],
      "toc_visible": true
    },
    "kernelspec": {
      "name": "python3",
      "display_name": "Python 3"
    },
    "language_info": {
      "name": "python"
    }
  },
  "cells": [
    {
      "cell_type": "code",
      "execution_count": 222,
      "metadata": {
        "id": "JO3PvE8aMlw3"
      },
      "outputs": [],
      "source": [
        "import numpy as np\n",
        "from math import *\n",
        "import matplotlib.pyplot as plt\n",
        "from numpy import linalg as LA\n",
        "from abc import abstractmethod\n",
        "\n",
        "# # suppress warnings\n",
        "# import warnings\n",
        "# warnings.filterwarnings(\"ignore\")\n",
        "\n",
        "plt.style.use('dark_background')"
      ]
    },
    {
      "cell_type": "code",
      "source": [
        "class MatrixSolver:\n",
        "    # compute gradinent of function f in point x with step h\n",
        "    @staticmethod\n",
        "    def grad(x, f, eps):\n",
        "        derivative = np.zeros(np.size(x))\n",
        "        for i in range(np.size(x)):\n",
        "            x[i] += eps\n",
        "            f1 = f(x)\n",
        "            x[i] -= 2 * eps\n",
        "            f2 = f(x)\n",
        "            x[i] += eps\n",
        "            derivative[i] = (f1 - f2) / (2 * eps)\n",
        "        return derivative\n",
        "\n",
        "    # compute Jacobian of functions rs = (r_1...r_n), r_i = r_i(x_1...x_m)\n",
        "    @staticmethod\n",
        "    def findJacobian(rs, x, eps):\n",
        "        n = np.size(rs)\n",
        "        m = np.size(x)\n",
        "        J = np.zeros((n, m))\n",
        "        for i in range(n):\n",
        "            J[i] = MatrixSolver.grad(x, rs[i], eps)\n",
        "        return J\n",
        "\n",
        "    # compute pseudo inverse of matrix X\n",
        "    @staticmethod\n",
        "    def pseudoInverse(x):\n",
        "        return np.linalg.inv(x.T @ x) @ x.T\n",
        "\n",
        "    # compute hessian of functions R^n -> R\n",
        "    @staticmethod\n",
        "    def findHessian(func, x, eps):\n",
        "        def grad_f(x):\n",
        "            return (MatrixSolver.grad(x, func, eps))\n",
        "\n",
        "        return MatrixSolver.findJacobian([grad_f], x, eps)\n"
      ],
      "metadata": {
        "id": "U7aanu1qNb8N"
      },
      "execution_count": 223,
      "outputs": []
    },
    {
      "cell_type": "code",
      "source": [
        "class Searcher:\n",
        "    def __init__(self, eps, max_iterations, func, start_x):\n",
        "        self.eps = eps\n",
        "        self.max_iterations = max_iterations\n",
        "        self.func = func\n",
        "        self.start_x = start_x\n",
        "\n",
        "    # stop method\n",
        "    def is_not_final(self):\n",
        "        return LA.norm(self.next - self.cur_x) > self.eps and self.max_iterations > self.epoch\n",
        "\n",
        "    # executor method\n",
        "    def run(self):\n",
        "        self.epoch = 0\n",
        "        #self.lr = start_lr\n",
        "        self.cur_x = self.start_x\n",
        "        #self.lr_func = lr_func\n",
        "        #self.y = y\n",
        "    \n",
        "        self.next_point()\n",
        "        while (self.is_not_final()):\n",
        "            self.epoch = self.epoch + 1\n",
        "            self.cur_x = self.next\n",
        "            self.next_point()\n",
        "        return self.next\n",
        "\n",
        "\n",
        "    # find next point\n",
        "    @abstractmethod\n",
        "    def next_point(self):\n",
        "        pass\n",
        "\n",
        "    \n"
      ],
      "metadata": {
        "id": "Kc7jkUnN8w_O"
      },
      "execution_count": 224,
      "outputs": []
    },
    {
      "cell_type": "code",
      "source": [
        "class Dogleg(Searcher):\n",
        "\n",
        "    def __init__(self, eps, max_iteration, func, start_x,\n",
        "                 initial_trust_radius=1.0, max_trust_radius=100.0, eta = 0.15):\n",
        "        super().__init__(eps, max_iteration, func, start_x)\n",
        "        self.initial_trust_radius = initial_trust_radius\n",
        "        self.max_trust_radius = max_trust_radius\n",
        "        self.eta = eta\n",
        "\n",
        "    def find_shift(self):\n",
        "        # find optimum\n",
        "        optimum = -(np.linalg.inv(self.hess) @ self.jac)\n",
        "        norm_opt = sqrt(optimum @ optimum)\n",
        "\n",
        "        if norm_opt <= self.trust_radius:\n",
        "            return optimum\n",
        "\n",
        "        # find Cauchy point\n",
        "        cauchy = - (self.jac @ self.jac / (self.jac @ (self.hess @ self.jac))) * self.jac\n",
        "        norm_cauchy = sqrt(cauchy @ cauchy)\n",
        "\n",
        "        # stop in circul\n",
        "        if norm_cauchy >= self.trust_radius:\n",
        "            return self.trust_radius * cauchy / norm_cauchy\n",
        "\n",
        "        tau = (self.trust_radius - cauchy) / (optimum - cauchy)\n",
        "\n",
        "        return cauchy + tau * (optimum - cauchy)\n",
        "\n",
        "    def find_trust_radius(self, shift):\n",
        "        act_reduction = self.func(self.cur_x) - self.func(self.cur_x + shift)\n",
        "        pred_reduction = -(self.jac @ shift + 0.5 * (shift @ (self.hess @ shift)))\n",
        "\n",
        "        rho = act_reduction / pred_reduction\n",
        "        if pred_reduction == 0.0:\n",
        "            rho = 1e99\n",
        "\n",
        "        norm_shift = sqrt(shift @ shift)\n",
        "\n",
        "        if rho < 0.25:\n",
        "            self.trust_radius = 0.25 * norm_shift\n",
        "        else:\n",
        "            if rho > 0.75 and norm_shift == self.trust_radius:\n",
        "                self.trust_radius = min(2.0 * self.trust_radius, self.max_trust_radius)\n",
        "            else:\n",
        "                self.trust_radius = self.trust_radius\n",
        "\n",
        "        if rho > self.eta:\n",
        "            self.next = self.cur_x + shift\n",
        "        else:\n",
        "            # too close\n",
        "            self.next = self.cur_x\n",
        "\n",
        "\n",
        "    def next_point(self):\n",
        "        self.jac = MatrixSolver.findJacobian([self.func], self.cur_x, self.eps)\n",
        "        self.hess = MatrixSolver.findHessian(self.func, self.cur_x, self.eps)\n",
        "        self.trust_radius = self.initial_trust_radius\n",
        "\n",
        "        self.find_trust_radius(self.find_shift())\n",
        "\n",
        "\n",
        "\n"
      ],
      "metadata": {
        "id": "lp6QHzOwpfJz"
      },
      "execution_count": 225,
      "outputs": []
    },
    {
      "cell_type": "code",
      "source": [
        "class GaussNewton(Searcher):\n",
        "  \n",
        "    def next_point(self):\n",
        "        self.lr = self.lr_func(self.lr)\n",
        "        p = MatrixSolver.pseudoInverse(MatrixSolver.findJacobian(self.func, self.cur_x, self.eps))\n",
        "        self.next_x = self.cur_x - self.lr * np.dot(p, self.y).reshape((-1))\n",
        "\n"
      ],
      "metadata": {
        "id": "h0EApRIwzj9R"
      },
      "execution_count": 226,
      "outputs": []
    },
    {
      "cell_type": "code",
      "source": [
        "def f(x):\n",
        "    return 0.4*x[0] + 4.7*sin(x[0]) + 2\n",
        "\n",
        "print(Dogleg(1e-5, 1000, f, np.array([3.2], float)).run())"
      ],
      "metadata": {
        "colab": {
          "base_uri": "https://localhost:8080/"
        },
        "id": "GzHO6EoUE23F",
        "outputId": "88f34b9b-f16e-4164-e6b1-d7ca9e63a595"
      },
      "execution_count": 227,
      "outputs": [
        {
          "output_type": "stream",
          "name": "stdout",
          "text": [
            "[[4.62717952]]\n"
          ]
        }
      ]
    },
    {
      "cell_type": "markdown",
      "source": [
        "# Новый раздел"
      ],
      "metadata": {
        "id": "OgEvJ6XOuhGq"
      }
    }
  ]
}