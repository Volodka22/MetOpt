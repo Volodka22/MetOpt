{
  "nbformat": 4,
  "nbformat_minor": 0,
  "metadata": {
    "colab": {
      "name": "iii.ipynb",
      "provenance": [],
      "collapsed_sections": []
    },
    "kernelspec": {
      "name": "python3",
      "display_name": "Python 3"
    },
    "language_info": {
      "name": "python"
    }
  },
  "cells": [
    {
      "cell_type": "code",
      "execution_count": 18,
      "metadata": {
        "id": "JO3PvE8aMlw3"
      },
      "outputs": [],
      "source": [
        "import numpy as np\n",
        "from math import *\n",
        "import matplotlib.pyplot as plt\n",
        "from numpy import linalg as LA\n",
        "from abc import abstractmethod\n",
        "\n",
        "# # suppress warnings\n",
        "# import warnings\n",
        "# warnings.filterwarnings(\"ignore\")\n",
        "\n",
        "plt.style.use('dark_background')"
      ]
    },
    {
      "cell_type": "code",
      "source": [
        "class MatrixSolver:\n",
        "\n",
        "    # compute gradinent of function f in point x with step h\n",
        "    @staticmethod\n",
        "    def grad(x, f, eps):\n",
        "        derivative = np.arange(np.size(x))\n",
        "        for i in range(np.size(x)):\n",
        "            x[i] += eps\n",
        "            f1 = f(x)\n",
        "            x[i] -= 2 * eps\n",
        "            f2 = f(x)\n",
        "            x[i] += eps\n",
        "            derivative[i] = (f1 - f2) / (2 * eps)\n",
        "        return derivative\n",
        "\n",
        "    # compute Jacobian of functions \\sigma{r1...rn} in point x\n",
        "    @staticmethod\n",
        "    def findJacobian(rs, x, eps):\n",
        "        J = np.asarray([])\n",
        "        for r in rs:\n",
        "            J = np.append(J, MatrixSolver.grad(x, r, eps))\n",
        "        return J\n",
        "\n",
        "    # compute pseudo inverse of matrix X\n",
        "    @staticmethod\n",
        "    def pseudoInverse(x):\n",
        "        return np.linalg.inv(x.T @ x) @ x.T\n",
        "\n",
        "    # compute hessian of functions \\sigma{r1...rn} in point x\n",
        "    @staticmethod\n",
        "    def findHessian(rs, x):\n",
        "        J = MatrixSolver.findJacobian(rs, x)\n",
        "        return 2 * (J.T @ J)\n",
        "\n",
        "    # get function in vector form\n",
        "    @staticmethod\n",
        "    def function_array(x):\n",
        "       return np.array([1 - x[0] , x[1] - x[0] ** 2]).reshape((2,1))\n"
      ],
      "metadata": {
        "id": "U7aanu1qNb8N"
      },
      "execution_count": 19,
      "outputs": []
    },
    {
      "cell_type": "code",
      "source": [
        "class Searcher:\n",
        "    def __init__(self, eps, max_iterations):\n",
        "        self.eps = eps\n",
        "        self.max_iterations = max_iterations\n",
        "\n",
        "    # stop method\n",
        "    def is_not_final(self):\n",
        "        return LA.norm(self.next - self.cur) > self.eps\n",
        "\n",
        "    # executor method\n",
        "    def run(self, start_x, func, lr_func, start_lr):\n",
        "        self.epoch = 0\n",
        "        self.lr = start_lr\n",
        "        self.func = func\n",
        "        self.cur_x = start_x\n",
        "        self.lr_func = lr_func\n",
        "    \n",
        "        self.next_x = self.next_point()\n",
        "        while (self.is_not_final()):\n",
        "            self.epoch = self.epoch + 1\n",
        "            self.cur_x = next\n",
        "        return self.next\n",
        "\n",
        "\n",
        "    # find next point\n",
        "    @abstractmethod\n",
        "    def next_point(self):\n",
        "        pass\n",
        "\n",
        "    \n"
      ],
      "metadata": {
        "id": "Kc7jkUnN8w_O"
      },
      "execution_count": 20,
      "outputs": []
    },
    {
      "cell_type": "code",
      "source": [
        "class GaussNewton(Searcher):\n",
        "  \n",
        "    def next_point(self):\n",
        "        self.lr = self.lr_func(self.lr, self.epoch)\n",
        "        p = MatrixSolver.pseudoInverse(MatrixSolver.findJacobian(self.func, self.cur_x, self.eps))\n",
        "        self.next_x = self.cur_x - self.lr * np.dot(p, self.function_array(self.x)).reshape((-1))\n",
        "\n"
      ],
      "metadata": {
        "id": "h0EApRIwzj9R"
      },
      "execution_count": 21,
      "outputs": []
    },
    {
      "cell_type": "code",
      "source": [
        ""
      ],
      "metadata": {
        "id": "GzHO6EoUE23F"
      },
      "execution_count": null,
      "outputs": []
    }
  ]
}