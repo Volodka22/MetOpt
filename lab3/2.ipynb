{
  "cells": [
    {
      "cell_type": "code",
      "execution_count": 103,
      "metadata": {},
      "outputs": [],
      "source": [
        "class MatrixSolver:\n",
        "    # compute gradinent of function f in point x with step h\n",
        "\n",
        "\n",
        "    def grad(x, f, eps):\n",
        "        m = len(x)\n",
        "        grad = np.zeros(m)\n",
        "        for i in range(m):\n",
        "            x[i] += 1e-5\n",
        "            f_plus_delta = f(x)\n",
        "            x[i] -= 2 * 1e-5\n",
        "            f_minus_delta = f(x)\n",
        "            x[i] += 1e-5\n",
        "            grad[i] = (f_plus_delta - f_minus_delta) / (2 * 1e-5)\n",
        "        return grad\n",
        "\n",
        "    # compute Jacobian of functions rs = (r_1...r_n), r_i = r_i(x_1...x_m)\n",
        "    @staticmethod\n",
        "    def findJacobian(rs, x, eps):\n",
        "        n = np.size(rs)\n",
        "        m = np.size(x)\n",
        "        J = np.zeros((n, m))\n",
        "        for i in range(n):\n",
        "            J[i] = MatrixSolver.grad(x, rs[i], eps)\n",
        "        return J\n",
        "\n",
        "    # compute pseudo inverse of matrix X\n",
        "    @staticmethod\n",
        "    def pseudoInverse(x):\n",
        "        return np.linalg.inv(x.T @ x) @ x.T\n",
        "\n",
        "    # compute hessian of functions R^n -> R\n",
        "    @staticmethod\n",
        "    def findHessian(func, x, eps):\n",
        "        def grad_f(x):\n",
        "            return (MatrixSolver.grad(x, func, eps))\n",
        "\n",
        "        return MatrixSolver.findJacobian([grad_f], x, eps)\n"
      ]
    },
    {
      "cell_type": "code",
      "execution_count": 125,
      "metadata": {},
      "outputs": [],
      "source": [
        "def is_true(fgrad, eps) :\n",
        "    answer=0\n",
        "    for i in range(np.size(fgrad)):\n",
        "        answer=numpy.sum(numpy.power(fgrad, 2))      \n",
        "    if answer<eps : return True\n",
        "    else : return False \n",
        "\n",
        "def next_H(H, y, s):\n",
        "    I = np.eye(len(s), len(s)) # единичная матрица\n",
        "    print(y.transpose @ s)\n",
        "    g= 1.0/(y.transpose @ s)\n",
        "    # вот тут падает впервые\n",
        "    g_s_y_T=g @ (s @ y.transpose())\n",
        "    g_y_s_t=g @ (y @ s.transpose())\n",
        "    return ((I-g_s_y_T) @ (H @ (I-g_y_s_t))) +g @ (s @ s.transpose())"
      ]
    },
    {
      "cell_type": "markdown",
      "metadata": {},
      "source": [
        "### BFGS"
      ]
    },
    {
      "cell_type": "code",
      "execution_count": 129,
      "metadata": {},
      "outputs": [],
      "source": [
        "import numpy\n",
        "from numpy import matmul\n",
        "import scipy\n",
        "import scipy.optimize\n",
        "from math import sin\n",
        "from math import cos\n",
        "# для начального приближения можно выбрать единичную матрицу\n",
        "# x - точка на текущей итерации\n",
        "# H - гессиан\n",
        "# func - функция, которую минимизируем\n",
        "\n",
        "def bfgs(func, x, m_epoch, func_grad, eps):\n",
        "    # или обратный гессиан в точке x0\n",
        "    size = len(x)\n",
        "\n",
        "    H = np.eye(size, size)\n",
        "    i = 0\n",
        "    points = [x]\n",
        "    while (i<m_epoch):\n",
        "\n",
        "        # находим направление поиска\n",
        "        fgrad=MatrixSolver.grad(x, func, eps)\n",
        "        # когда дебажила, уже вот тут у них градиент получается другим, почему блять?????\n",
        "        if is_true(fgrad, 1e-5) : break\n",
        "        p= -H @ fgrad\n",
        "\n",
        "        #находим альфу, которая подходит условиям вольфа\n",
        "        alpha = scipy.optimize.line_search(func, func_grad , x, p, c1=1e-4, c2=0.9)\n",
        "        if alpha[0] is None:\n",
        "            x_next = x + 1e-4 * p\n",
        "        else:\n",
        "            x_next = x + alpha[0] * p\n",
        "        \n",
        "\n",
        "        # переход на следующую итерацию\n",
        "        y=MatrixSolver.grad(x_next, func, eps)-fgrad\n",
        "        s=x_next-x\n",
        "        H=next_H(H, y, s)\n",
        "        points.append(x_next)\n",
        "        x = x_next\n",
        "        i+=1\n",
        "    return(points, i)   "
      ]
    },
    {
      "cell_type": "code",
      "execution_count": 127,
      "metadata": {},
      "outputs": [],
      "source": [
        "def f1(X):\n",
        "    return 0.4*X[0] + 4.7*sin(X[0]) + 2\n",
        "\n",
        "def f1_grad(X) :\n",
        "    return 0.4+4.7*cos(X[0])"
      ]
    },
    {
      "cell_type": "code",
      "execution_count": 128,
      "metadata": {},
      "outputs": [
        {
          "name": "stdout",
          "output_type": "stream",
          "text": [
            "[10.]\n",
            "[10.00035436]\n"
          ]
        },
        {
          "name": "stderr",
          "output_type": "stream",
          "text": [
            "c:\\Users\\Julko\\anaconda3\\lib\\site-packages\\scipy\\optimize\\linesearch.py:327: LineSearchWarning: The line search algorithm did not converge\n",
            "  warn('The line search algorithm did not converge', LineSearchWarning)\n"
          ]
        },
        {
          "ename": "ValueError",
          "evalue": "matmul: Input operand 0 does not have enough dimensions (has 0, gufunc core with signature (n?,k),(k,m?)->(n?,m?) requires 1)",
          "output_type": "error",
          "traceback": [
            "\u001b[1;31m---------------------------------------------------------------------------\u001b[0m",
            "\u001b[1;31mValueError\u001b[0m                                Traceback (most recent call last)",
            "\u001b[1;32m~\\AppData\\Local\\Temp/ipykernel_16688/2898858960.py\u001b[0m in \u001b[0;36m<module>\u001b[1;34m\u001b[0m\n\u001b[1;32m----> 1\u001b[1;33m \u001b[0ma\u001b[0m \u001b[1;33m=\u001b[0m \u001b[0mbfgs\u001b[0m\u001b[1;33m(\u001b[0m\u001b[0mf1\u001b[0m\u001b[1;33m,\u001b[0m \u001b[0mnp\u001b[0m\u001b[1;33m.\u001b[0m\u001b[0marray\u001b[0m\u001b[1;33m(\u001b[0m\u001b[1;33m[\u001b[0m\u001b[1;36m10\u001b[0m\u001b[1;33m]\u001b[0m\u001b[1;33m,\u001b[0m \u001b[0mfloat\u001b[0m\u001b[1;33m)\u001b[0m\u001b[1;33m,\u001b[0m \u001b[1;36m1000\u001b[0m\u001b[1;33m,\u001b[0m \u001b[0mf1_grad\u001b[0m\u001b[1;33m,\u001b[0m \u001b[1;36m0.00001\u001b[0m\u001b[1;33m)\u001b[0m\u001b[1;33m\u001b[0m\u001b[1;33m\u001b[0m\u001b[0m\n\u001b[0m",
            "\u001b[1;32m~\\AppData\\Local\\Temp/ipykernel_16688/1857544938.py\u001b[0m in \u001b[0;36mbfgs\u001b[1;34m(func, x, m_epoch, func_grad, eps)\u001b[0m\n\u001b[0;32m     37\u001b[0m         \u001b[0my\u001b[0m\u001b[1;33m=\u001b[0m\u001b[0mMatrixSolver\u001b[0m\u001b[1;33m.\u001b[0m\u001b[0mgrad\u001b[0m\u001b[1;33m(\u001b[0m\u001b[0mx_next\u001b[0m\u001b[1;33m,\u001b[0m \u001b[0mfunc\u001b[0m\u001b[1;33m,\u001b[0m \u001b[0meps\u001b[0m\u001b[1;33m)\u001b[0m\u001b[1;33m-\u001b[0m\u001b[0mfgrad\u001b[0m\u001b[1;33m\u001b[0m\u001b[1;33m\u001b[0m\u001b[0m\n\u001b[0;32m     38\u001b[0m         \u001b[0ms\u001b[0m\u001b[1;33m=\u001b[0m\u001b[0mx_next\u001b[0m\u001b[1;33m-\u001b[0m\u001b[0mx\u001b[0m\u001b[1;33m\u001b[0m\u001b[1;33m\u001b[0m\u001b[0m\n\u001b[1;32m---> 39\u001b[1;33m         \u001b[0mH\u001b[0m\u001b[1;33m=\u001b[0m\u001b[0mnext_H\u001b[0m\u001b[1;33m(\u001b[0m\u001b[0mH\u001b[0m\u001b[1;33m,\u001b[0m \u001b[0my\u001b[0m\u001b[1;33m,\u001b[0m \u001b[0ms\u001b[0m\u001b[1;33m)\u001b[0m\u001b[1;33m\u001b[0m\u001b[1;33m\u001b[0m\u001b[0m\n\u001b[0m\u001b[0;32m     40\u001b[0m         \u001b[0mpoints\u001b[0m\u001b[1;33m.\u001b[0m\u001b[0mappend\u001b[0m\u001b[1;33m(\u001b[0m\u001b[0mx_next\u001b[0m\u001b[1;33m)\u001b[0m\u001b[1;33m\u001b[0m\u001b[1;33m\u001b[0m\u001b[0m\n\u001b[0;32m     41\u001b[0m         \u001b[0mx\u001b[0m \u001b[1;33m=\u001b[0m \u001b[0mx_next\u001b[0m\u001b[1;33m\u001b[0m\u001b[1;33m\u001b[0m\u001b[0m\n",
            "\u001b[1;32m~\\AppData\\Local\\Temp/ipykernel_16688/2021066062.py\u001b[0m in \u001b[0;36mnext_H\u001b[1;34m(H, y, s)\u001b[0m\n\u001b[0;32m      8\u001b[0m \u001b[1;32mdef\u001b[0m \u001b[0mnext_H\u001b[0m\u001b[1;33m(\u001b[0m\u001b[0mH\u001b[0m\u001b[1;33m,\u001b[0m \u001b[0my\u001b[0m\u001b[1;33m,\u001b[0m \u001b[0ms\u001b[0m\u001b[1;33m)\u001b[0m\u001b[1;33m:\u001b[0m\u001b[1;33m\u001b[0m\u001b[1;33m\u001b[0m\u001b[0m\n\u001b[0;32m      9\u001b[0m     \u001b[0mI\u001b[0m \u001b[1;33m=\u001b[0m \u001b[0mnumpy\u001b[0m\u001b[1;33m.\u001b[0m\u001b[0meye\u001b[0m\u001b[1;33m(\u001b[0m\u001b[0mlen\u001b[0m\u001b[1;33m(\u001b[0m\u001b[0ms\u001b[0m\u001b[1;33m)\u001b[0m\u001b[1;33m,\u001b[0m \u001b[0mdtype\u001b[0m\u001b[1;33m=\u001b[0m\u001b[0mint\u001b[0m\u001b[1;33m)\u001b[0m\u001b[1;33m\u001b[0m\u001b[1;33m\u001b[0m\u001b[0m\n\u001b[1;32m---> 10\u001b[1;33m     \u001b[0mprint\u001b[0m\u001b[1;33m(\u001b[0m\u001b[0my\u001b[0m\u001b[1;33m.\u001b[0m\u001b[0mtranspose\u001b[0m \u001b[1;33m@\u001b[0m \u001b[0ms\u001b[0m\u001b[1;33m)\u001b[0m\u001b[1;33m\u001b[0m\u001b[1;33m\u001b[0m\u001b[0m\n\u001b[0m\u001b[0;32m     11\u001b[0m     \u001b[0mg\u001b[0m\u001b[1;33m=\u001b[0m \u001b[1;36m1.0\u001b[0m\u001b[1;33m/\u001b[0m\u001b[1;33m(\u001b[0m\u001b[0my\u001b[0m\u001b[1;33m.\u001b[0m\u001b[0mtranspose\u001b[0m \u001b[1;33m@\u001b[0m \u001b[0ms\u001b[0m\u001b[1;33m)\u001b[0m\u001b[1;33m\u001b[0m\u001b[1;33m\u001b[0m\u001b[0m\n\u001b[0;32m     12\u001b[0m     \u001b[0mg_s_y_T\u001b[0m\u001b[1;33m=\u001b[0m\u001b[0mg\u001b[0m \u001b[1;33m@\u001b[0m \u001b[1;33m(\u001b[0m\u001b[0ms\u001b[0m \u001b[1;33m@\u001b[0m \u001b[0my\u001b[0m\u001b[1;33m.\u001b[0m\u001b[0mtranspose\u001b[0m\u001b[1;33m(\u001b[0m\u001b[1;33m)\u001b[0m\u001b[1;33m)\u001b[0m\u001b[1;33m\u001b[0m\u001b[1;33m\u001b[0m\u001b[0m\n",
            "\u001b[1;31mValueError\u001b[0m: matmul: Input operand 0 does not have enough dimensions (has 0, gufunc core with signature (n?,k),(k,m?)->(n?,m?) requires 1)"
          ]
        }
      ],
      "source": [
        "a = bfgs(f1, np.array([10], float), 1000, f1_grad, 0.00001)"
      ]
    }
  ],
  "metadata": {
    "colab": {
      "collapsed_sections": [],
      "name": "iii.ipynb",
      "provenance": [],
      "toc_visible": true
    },
    "interpreter": {
      "hash": "356e69385587f69b433e2dd0b10e19b52a7abdf22abb4354067a7098dda811b6"
    },
    "kernelspec": {
      "display_name": "Python 3.9.7 ('base')",
      "language": "python",
      "name": "python3"
    },
    "language_info": {
      "codemirror_mode": {
        "name": "ipython",
        "version": 3
      },
      "file_extension": ".py",
      "mimetype": "text/x-python",
      "name": "python",
      "nbconvert_exporter": "python",
      "pygments_lexer": "ipython3",
      "version": "3.9.7"
    }
  },
  "nbformat": 4,
  "nbformat_minor": 0
}
