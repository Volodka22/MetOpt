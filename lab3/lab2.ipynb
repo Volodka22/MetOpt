{
 "cells": [
  {
   "cell_type": "markdown",
   "metadata": {},
   "source": [
    "# Пункт 1. Реализовать стохастический градиентный спуск"
   ]
  },
  {
   "cell_type": "code",
   "execution_count": 401,
   "metadata": {},
   "outputs": [],
   "source": [
    "import numpy as np\n",
    "from math import *\n",
    "import matplotlib.pyplot as plt\n",
    "from numpy import linalg as LA\n",
    "\n",
    "# # suppress warnings\n",
    "# import warnings\n",
    "# warnings.filterwarnings(\"ignore\")"
   ]
  },
  {
   "cell_type": "code",
   "execution_count": 402,
   "metadata": {},
   "outputs": [],
   "source": [
    "DEFAULT_LR = 0.005"
   ]
  },
  {
   "cell_type": "code",
   "execution_count": 403,
   "metadata": {},
   "outputs": [],
   "source": [
    "# linear function, computes k-th coordinate by k-1 first\n",
    "#   coefficients - k-1-dim array\n",
    "#   x - k-1-dim array\n",
    "def f(coefficients, x, coefficient_bound = 0):\n",
    "    return np.sum(coefficients * x) + coefficient_bound * (2 * np.random.random_sample() - 1)\n",
    "\n",
    "# scale coord array into [0; 1] interval\n",
    "def scale_dim(coords):\n",
    "    mn = coords[0]\n",
    "    mx = coords[0]\n",
    "    for i in range(0, len(coords)):\n",
    "        mn = min(mn, coords[i])\n",
    "        mx = max(mx, coords[i])\n",
    "    if mn == mx:\n",
    "        for i in range(0, len(coords)):\n",
    "            coords[i] = 0\n",
    "    else:\n",
    "        for i in range(0, len(coords)):\n",
    "            coords[i] = (coords[i] - mn) / (mx - mn)\n",
    "    return [coords, mn, mx]\n",
    "\n",
    "# scale all point_set coords into [0; 1] interval\n",
    "def apply_scaling(points):\n",
    "    x = points.x.copy()\n",
    "    y = points.y.copy()\n",
    "    for k in range(0, points.dim - 1):\n",
    "        coords = np.asarray([])\n",
    "        for i in range(0, points.n):\n",
    "            coords = np.append(coords, points.x[i][k])\n",
    "        coords = scale_dim(coords)[0]\n",
    "        for i in range(0, points.n):\n",
    "            x[i][k] = coords[i]\n",
    "    y = scale_dim(y)[0] \n",
    "    return point_set(points.n, points.dim, x, y, 1)\n",
    "\n",
    "class point_set:\n",
    "    # copy ctor :|\n",
    "    def __init__(self, n, dim, x, y, coords_bound = 0):\n",
    "        self.n = n\n",
    "        self.dim = dim\n",
    "        self.x = np.asarray(x, dtype=np.float64)\n",
    "        self.y = np.asarray(y, dtype=np.float64)\n",
    "        self.coords_bound = coords_bound\n",
    "\n",
    "# create point_set:\n",
    "# n - amount of points\n",
    "# dim - space's dim\n",
    "# coords_bound - upper bound on absolute first k-1 coordinates value\n",
    "# coefficients_bound - upper bound on absolute coefficients value\n",
    "def create_point_set(n, dim, coords_bound, coefficients_bound, specified_func, coefficients = []):\n",
    "    x = coords_bound * np.random.random_sample((n, dim - 1))\n",
    "    if coefficients == []:\n",
    "        coefficients = coefficients_bound * np.random.random_sample((dim - 1)) - coefficients_bound\n",
    "    else:\n",
    "        coefficients = np.asarray(coords_bound)\n",
    "\n",
    "    y = np.asarray([])\n",
    "    for i in range(0, n):\n",
    "        y = np.append(y, specified_func([f(coefficients, x[i], coefficients_bound)]))\n",
    "    # y = coords_bound * np.random.random_sample((n))\n",
    "    return point_set(n, dim, x, y, coords_bound)\n",
    "\n",
    "\n",
    "def f1(x):\n",
    "    return sin(x[0]) + cos(x[0])\n",
    "\n",
    "def f2(x):\n",
    "    return 3.2 * sin(x[0]) + 1.7 * x[0] * cos(x[0])\n",
    "\n",
    "def f3(x):\n",
    "    return x[0]**4 + 404 * x[0] ** 2 + 123 \n",
    "\n",
    "EPOCH_MAX = 50\n",
    "\n",
    "input_f1 = create_point_set(100, 2, 20., 10., f1)\n",
    "input_f2 = create_point_set(100, 2, 20., 10., f2)\n",
    "input_f3 = create_point_set(100, 2, 20., 10., f3)\n"
   ]
  },
  {
   "cell_type": "code",
   "execution_count": 404,
   "metadata": {},
   "outputs": [],
   "source": [
    "# considered loss function for points_set\n",
    "# f = sum from i=0 to n-1 of (a*x_i + b - y_i)^2, where a.append(b) = c\n",
    "#   points - point_set\n",
    "#   c - k-dim array of coefficients points = [a_0, ..., a_k-2, b]\n",
    "# def loss_function(points, c):\n",
    "#     f = 0\n",
    "#     for i in range(0, points.n):\n",
    "#         f += (np.asarray(c[0 : points.dim - 1], dtype=np.float64) @ points.x[i] + c[points.dim - 1] - points.y[i]) ** 2\n",
    "#     return f\n",
    "def loss_function(points, coeffs, i):\n",
    "    return 1 / (points.n) * np.square(coeffs[points.dim - 1] + np.sum(coeffs[0 : points.dim - 1] * points.x[i]) - points.y[i]) "
   ]
  },
  {
   "cell_type": "code",
   "execution_count": 405,
   "metadata": {},
   "outputs": [],
   "source": [
    "def gradient_compute(points, coeffs, id, h=1e-5):\n",
    "    dim = points.dim\n",
    "    grad = np.asarray([0.] * dim)\n",
    "    step = np.asarray([0.] * dim)\n",
    "    for i in range(0, dim):\n",
    "        step[i] = h\n",
    "        grad[i] = (loss_function(points, coeffs + step, id) - loss_function(points, coeffs - step, id)) / (2 * h)\n",
    "        step[i] = 0\n",
    "    return grad\n",
    "\n",
    "# calculate gradient [d/da, d/db] of loss function for points_set by variables x_i, where i in ids\n",
    "#   points - point_set\n",
    "#   ids - array of indices for taking gradient\n",
    "#   coeffs - current loss function = [a_0, ..., a_k-2, b]\n",
    "def loss_function_grad(points, ids, coeffs):\n",
    "    result = np.asarray([0.] * points.dim)\n",
    "    for i in ids:\n",
    "        result += gradient_compute(points, coeffs, i)\n",
    "    return result"
   ]
  },
  {
   "cell_type": "code",
   "execution_count": 406,
   "metadata": {},
   "outputs": [],
   "source": [
    "# stochastic gradient descent\n",
    "#   point - point_set\n",
    "#   batch_size - amount of variables for diff in one epoch\n",
    "#   gradinet_supplier - :)\n",
    "#   starting_coeffs - array of point.dim len\n",
    "#   lr - function (current_lr, epoch)\n",
    "#   eps - :)\n",
    "#   epoches - max amount of epoches\n",
    "#   _param - ignored\n",
    "# ret:\n",
    "#   [\n",
    "#       found coeffs - array of point.dim len,\n",
    "#       history - array of all epoches changes\n",
    "#   ]\n",
    "def sgd(points, batch_size, gradinet_supplier, starting_coeffs, lr, eps, epoches, _param_1, _param_2):\n",
    "    history = list()\n",
    "    order = np.asarray(range(0, points.n))\n",
    "    np.random.shuffle(order)\n",
    "\n",
    "    batch_index = 0\n",
    "    coeffs = starting_coeffs\n",
    "    current_lr = DEFAULT_LR\n",
    "    \n",
    "    for i in range(0, epoches):\n",
    "        to = min(batch_index + batch_size, len(order))\n",
    "        current_lr = lr(current_lr, i)\n",
    "        grad = gradinet_supplier(points, order[batch_index : to], coeffs)\n",
    "        coeffs_step = coeffs - current_lr * np.asarray(grad)\n",
    "\n",
    "        # print(coeffs_step)\n",
    "        \n",
    "        if LA.norm(coeffs_step - coeffs) <= eps:\n",
    "            break\n",
    "        \n",
    "        history.append(coeffs)\n",
    "        coeffs = coeffs_step\n",
    "        \n",
    "        if to == len(order):\n",
    "            batch_index = 0\n",
    "            np.random.shuffle(order)\n",
    "        else:\n",
    "            batch_index = to\n",
    "\n",
    "    return [coeffs, history]"
   ]
  },
  {
   "cell_type": "code",
   "execution_count": 407,
   "metadata": {},
   "outputs": [],
   "source": [
    "constant_lr = (lambda current_lr, epoch: DEFAULT_LR)\n",
    "def step_decay(lr, epoch, epochs_drop = 20, drop = 0.5):\n",
    "   return lr * pow(drop, floor((1 + epoch) / epochs_drop))\n",
    "   \n",
    "colors = [\"blue\", \"red\", \"green\", \"orange\", \"purple\", \"yellow\", \"pink\", \"brown\", \"black\", \"magenta\"]\n",
    "\n",
    "# call sgd with each possible batch_size for point_set\n",
    "#   lr - function (current_lr, epoch)\n",
    "def batch_size_analyze(points, lr = constant_lr, gd = sgd, param_1 = 0, param_2 = 0):\n",
    "    epoches = np.asarray([])\n",
    "    for batch in range(1, points.n + 1):\n",
    "        result = gd(points, batch, loss_function_grad, np.asarray([0.] * (points.dim)), lr, 1e-6, EPOCH_MAX, param_1, param_2)\n",
    "        epoches = np.append(epoches, len(result[1]))    \n",
    "    return epoches\n",
    "\n",
    "# print batch_size_analyze(points, lr)\n",
    "def print_batch_size_analyze(points, lr = constant_lr, gd = sgd, name='minibatch SGD', params_1 = [0], params_2 = [0]):\n",
    "    if params_1 == [0] and params_2 == [0]:\n",
    "        epoches = batch_size_analyze(points, lr, gd = gd, param_1 = 0)\n",
    "        plt.plot(np.linspace(1, len(epoches), len(epoches)), epoches)\n",
    "    if params_1 != [0] and params_2 == [0]:\n",
    "        for i in range(0, len(params_1)):\n",
    "            epoches = batch_size_analyze(points, lr, gd = gd, param_1 = params_1[i])\n",
    "            plt.plot(np.linspace(1, len(epoches), len(epoches)), epoches, color = colors[i % len(colors)], label = \"parameter=\" + str(params_1[i]))\n",
    "        plt.legend()\n",
    "    if params_1 != [0] and params_2 != [0]:\n",
    "        for i in range(0, len(params_1)):\n",
    "            for j in range (0, len(params_2)):\n",
    "                epoches = batch_size_analyze(points, lr, gd = gd, param_1 = params_1[i], param_2 = params_2[j])\n",
    "                plt.plot(np.linspace(1, len(epoches), len(epoches)), epoches, color = colors[(i*len(params_2)+j) % len(colors)], label = str(params_1[i])+ \" \" + str(params_2[j])) \n",
    "            plt.legend()\n",
    "    plt.xlabel(\"batch\")\n",
    "    plt.ylabel(\"epoches\")\n",
    "    plt.title(name + \" for n=\" + str(points.n) + \", dim=\" + str(points.dim) + \", coords<=\" + str(points.coords_bound))\n",
    "    plt.show()"
   ]
  },
  {
   "cell_type": "code",
   "execution_count": 408,
   "metadata": {},
   "outputs": [],
   "source": [
    "def apply_all_loss_functions(points, coeffs):\n",
    "    result = 0.\n",
    "    for i in range(0, points.dim):\n",
    "        result += loss_function(points, coeffs, i)\n",
    "    return result\n",
    "\n",
    "# draw loss func values by epoch for point_set & given batch\n",
    "#   lr - function (current_lr, epoch)\n",
    "def print_loss_function_epochs(points, batch, lr = constant_lr, gd = sgd, name = 'minibatch SGD', param = 0, p = 0):\n",
    "    result = gd(points, batch, loss_function_grad, np.asarray([0.] * (points.dim)), lr, 1e-6, EPOCH_MAX, param, p)\n",
    "\n",
    "    loss_func_values = np.asarray([])\n",
    "    for coeffs in result[1]:\n",
    "        loss_func_values = np.append(loss_func_values, [apply_all_loss_functions(points, coeffs)])\n",
    "        \n",
    "    plt.plot(loss_func_values)\n",
    "    plt.xlabel(\"epoch\")\n",
    "    plt.ylabel(\"loss function value\")\n",
    "    plt.title(\"loss function by \" + name + \" for n=\" + str(points.n) + \", dim=\" + str(points.dim) + \", coords<=\" + str(points.coords_bound))\n",
    "    plt.show()"
   ]
  },
  {
   "cell_type": "code",
   "execution_count": 409,
   "metadata": {},
   "outputs": [],
   "source": [
    "def print_2d_epoches(points, lr, gd, param_1, param_2):\n",
    "    result = gd(points, points.n // 2, loss_function_grad, np.asarray([0.] * (points.dim)), lr, 1e-6, EPOCH_MAX, param_1, param_2)\n",
    "    print(\"epoches: \", len(result[1]))\n",
    "    print(\"loss: \", apply_all_loss_functions(points, result[0]))\n",
    "    print(\"coeffs: y =\", result[0][1], \"* x +\", result[0][0])\n",
    "    return result\n",
    "\n",
    "def print_2d_result(points, lr = constant_lr, gd = sgd, param_1 = 0, param_2 = 0):\n",
    "    result = print_2d_epoches(points, lr, gd, param_1, param_2)\n",
    "    plt.plot(points.x, points.y, 'o', markersize=1)\n",
    "    grid = np.linspace(np.min(points.x), np.max(points.x), 1000)\n",
    "    plt.title('Point set and evaluated function')\n",
    "    plt.plot(grid, result[0][0] * grid + result[0][1])\n",
    "    plt.show()"
   ]
  },
  {
   "cell_type": "code",
   "execution_count": 410,
   "metadata": {},
   "outputs": [
    {
     "name": "stdout",
     "output_type": "stream",
     "text": [
      "epoches:  31\n",
      "loss:  0.02138422510788587\n",
      "coeffs: y = 0.010156281599852823 * x + 8.440863716142111e-05\n"
     ]
    },
    {
     "data": {
      "image/png": "[encoded data removed]",
      "text/plain": [
       "<Figure size 432x288 with 1 Axes>"
      ]
     },
     "metadata": {
      "needs_background": "light"
     },
     "output_type": "display_data"
    },
    {
     "name": "stdout",
     "output_type": "stream",
     "text": [
      "epoches:  33\n",
      "loss:  9.727559369749672\n",
      "coeffs: y = 0.30028232412767797 * x + -0.27335731883728487\n"
     ]
    },
    {
     "data": {
      "image/png": "[encoded data removed]",
      "text/plain": [
       "<Figure size 432x288 with 1 Axes>"
      ]
     },
     "metadata": {
      "needs_background": "light"
     },
     "output_type": "display_data"
    },
    {
     "name": "stdout",
     "output_type": "stream",
     "text": [
      "epoches:  43\n",
      "loss:  124210830.8844473\n",
      "coeffs: y = -108.6240230619119 * x + 8930.53857267924\n"
     ]
    },
    {
     "data": {
      "image/png": "[encoded data removed]",
      "text/plain": [
       "<Figure size 432x288 with 1 Axes>"
      ]
     },
     "metadata": {
      "needs_background": "light"
     },
     "output_type": "display_data"
    }
   ],
   "source": [
    "print_2d_result(input_f1, step_decay, sgd)\n",
    "print_2d_result(input_f2, step_decay, sgd)\n",
    "print_2d_result(input_f3, step_decay, sgd)"
   ]
  },
  {
   "cell_type": "markdown",
   "metadata": {},
   "source": [
    "### SGD with momentum"
   ]
  },
  {
   "cell_type": "code",
   "execution_count": 411,
   "metadata": {},
   "outputs": [],
   "source": [
    "# stochastic gradient descent with momentum\n",
    "#   point - point_set\n",
    "#   batch_size - amount of variables for diff in one epoch\n",
    "#   gradinet_supplier - :)\n",
    "#   starting_coeffs - array of point.dim len\n",
    "#   lr - function (current_lr, epoch)\n",
    "#   eps - :)\n",
    "#   epoches - max amount of epoches\n",
    "#   betta - parameter\n",
    "# ret:\n",
    "#   [\n",
    "#       found coeffs - array of point.dim len,\n",
    "#       history - array of all epoches changes\n",
    "#   ]\n",
    "def sgd_with_momentum(points, batch_size, gradinet_supplier, starting_coeffs, lr, eps, epoches, betta, param_2):\n",
    "    history = list()\n",
    "    order = np.asarray(range(0, points.n))\n",
    "    np.random.shuffle(order)\n",
    "\n",
    "    coeffs = starting_coeffs\n",
    "    current_lr = DEFAULT_LR\n",
    "    grad = gradinet_supplier(points, order[0 : batch_size], coeffs)\n",
    "    batch_index = batch_size % points.n\n",
    "    \n",
    "    for i in range(0, epoches):\n",
    "        to = min(batch_index + batch_size, len(order))\n",
    "        current_lr = lr(current_lr, i)\n",
    "        grad = betta * grad + (1 - betta) * gradinet_supplier(points, order[batch_index:to], coeffs)\n",
    "        coeffs_step = coeffs - current_lr * grad\n",
    "        \n",
    "        if LA.norm(coeffs_step - coeffs) <= eps:\n",
    "            break\n",
    "        \n",
    "        history.append(coeffs)\n",
    "        coeffs = coeffs_step\n",
    "        \n",
    "        if to == len(order):\n",
    "            batch_index = 0\n",
    "            np.random.shuffle(order)\n",
    "        else:\n",
    "            batch_index = to\n",
    "\n",
    "    return [coeffs, history]"
   ]
  },
  {
   "cell_type": "code",
   "execution_count": 412,
   "metadata": {},
   "outputs": [
    {
     "name": "stdout",
     "output_type": "stream",
     "text": [
      "epoches:  28\n",
      "loss:  0.024213204003445215\n",
      "coeffs: y = 0.010417358055053729 * x + 0.0054891868490603585\n"
     ]
    },
    {
     "data": {
      "image/png": "[encoded data removed]",
      "text/plain": [
       "<Figure size 432x288 with 1 Axes>"
      ]
     },
     "metadata": {
      "needs_background": "light"
     },
     "output_type": "display_data"
    },
    {
     "name": "stdout",
     "output_type": "stream",
     "text": [
      "epoches:  35\n",
      "loss:  11.049756214389747\n",
      "coeffs: y = 0.31479092115343876 * x + -0.40353292408923214\n"
     ]
    },
    {
     "data": {
      "image/png": "[encoded data removed]",
      "text/plain": [
       "<Figure size 432x288 with 1 Axes>"
      ]
     },
     "metadata": {
      "needs_background": "light"
     },
     "output_type": "display_data"
    },
    {
     "name": "stdout",
     "output_type": "stream",
     "text": [
      "epoches:  42\n",
      "loss:  110701728.75515898\n",
      "coeffs: y = -167.5823969149251 * x + 8602.821509816606\n"
     ]
    },
    {
     "data": {
      "image/png": "[encoded data removed]",
      "text/plain": [
       "<Figure size 432x288 with 1 Axes>"
      ]
     },
     "metadata": {
      "needs_background": "light"
     },
     "output_type": "display_data"
    }
   ],
   "source": [
    "print_2d_result(input_f1, step_decay, sgd_with_momentum)\n",
    "print_2d_result(input_f2, step_decay, sgd_with_momentum)\n",
    "print_2d_result(input_f3, step_decay, sgd_with_momentum)"
   ]
  },
  {
   "cell_type": "markdown",
   "metadata": {},
   "source": [
    "### SGD with Nesterov momentum"
   ]
  },
  {
   "cell_type": "code",
   "execution_count": 413,
   "metadata": {},
   "outputs": [],
   "source": [
    "# calculate gradient [d/da, d/db] of loss function for points_set by variables x_i, where i in ids\n",
    "#   points - point_set\n",
    "#   ids - array of indices for taking gradient\n",
    "#   coeffs - current loss function = [a_0, ..., a_k-2, b]\n",
    "#   betta - parameter\n",
    "#   grad - previous step gradined\n",
    "def nesterov_loss_function_grad(points, ids, coeffs, betta, grad):\n",
    "    result = np.asarray([0.] * points.dim)\n",
    "    for i in ids:\n",
    "        result += gradient_compute(points, coeffs - betta * grad, i)\n",
    "    return result\n",
    "\n",
    "# stochastic gradient descent with Nesterov momentum\n",
    "#   point - point_set\n",
    "#   batch_size - amount of variables for diff in one epoch\n",
    "#   _gradinet_supplier - ignored\n",
    "#   starting_coeffs - array of point.dim len\n",
    "#   lr - function (current_lr, epoch)\n",
    "#   eps - :)\n",
    "#   epoches - max amount of epoches\n",
    "#   betta - parameter\n",
    "# ret:\n",
    "#   [\n",
    "#       found coeffs - array of point.dim len,\n",
    "#       history - array of all epoches changes\n",
    "#   ]\n",
    "def sgd_with_nesterov_momentum(points, batch_size, _gradinet_supplier, starting_coeffs, lr, eps, epoches, betta, gamma):\n",
    "    history = list()\n",
    "    order = np.asarray(range(0, points.n))\n",
    "    np.random.shuffle(order)\n",
    "\n",
    "    current_lr = DEFAULT_LR\n",
    "    coeffs = starting_coeffs\n",
    "    # grad = np.asarray([0] * points.dim)\n",
    "    grad = _gradinet_supplier(points, order[0 : batch_size], coeffs)\n",
    "    batch_index = batch_size % points.n\n",
    "\n",
    "    for i in range(0, epoches):\n",
    "        to = min(batch_index + batch_size, len(order))\n",
    "        current_lr = lr(current_lr, i)\n",
    "        grad = betta * grad + current_lr * nesterov_loss_function_grad(points, order[batch_index:to], coeffs, betta, grad)\n",
    "        coeffs_step = coeffs - grad\n",
    "        \n",
    "        if LA.norm(coeffs_step - coeffs) <= eps:\n",
    "            break\n",
    "        \n",
    "        history.append(coeffs)\n",
    "        coeffs = coeffs_step\n",
    "        \n",
    "        if to == len(order):\n",
    "            batch_index = 0\n",
    "            np.random.shuffle(order)\n",
    "        else:\n",
    "            batch_index = to\n",
    "\n",
    "    return [coeffs, history]"
   ]
  },
  {
   "cell_type": "code",
   "execution_count": 414,
   "metadata": {},
   "outputs": [
    {
     "name": "stdout",
     "output_type": "stream",
     "text": [
      "epoches:  31\n",
      "loss:  0.02071365463630835\n",
      "coeffs: y = 0.06783089852332685 * x + -0.0053622877279960535\n"
     ]
    },
    {
     "data": {
      "image/png": "[encoded data removed]",
      "text/plain": [
       "<Figure size 432x288 with 1 Axes>"
      ]
     },
     "metadata": {
      "needs_background": "light"
     },
     "output_type": "display_data"
    },
    {
     "name": "stdout",
     "output_type": "stream",
     "text": [
      "epoches:  38\n",
      "loss:  12.687600804241418\n",
      "coeffs: y = 4.25485052744448 * x + -0.8328332036268552\n"
     ]
    },
    {
     "data": {
      "image/png": "[encoded data removed]",
      "text/plain": [
       "<Figure size 432x288 with 1 Axes>"
      ]
     },
     "metadata": {
      "needs_background": "light"
     },
     "output_type": "display_data"
    },
    {
     "name": "stdout",
     "output_type": "stream",
     "text": [
      "epoches:  44\n",
      "loss:  121703675.11861034\n",
      "coeffs: y = -426.5049839230345 * x + 8890.560797945487\n"
     ]
    },
    {
     "data": {
      "image/png": "[encoded data removed]",
      "text/plain": [
       "<Figure size 432x288 with 1 Axes>"
      ]
     },
     "metadata": {
      "needs_background": "light"
     },
     "output_type": "display_data"
    }
   ],
   "source": [
    "print_2d_result(input_f1, step_decay, sgd_with_nesterov_momentum, 0.35)\n",
    "print_2d_result(input_f2, step_decay, sgd_with_nesterov_momentum, 0.35)\n",
    "print_2d_result(input_f3, step_decay, sgd_with_nesterov_momentum, 0.35)"
   ]
  }
 ],
 "metadata": {
  "interpreter": {
   "hash": "a2e2be2a7d45476db2114725d955b28243d5c1c1a64acf528ce6900e710e09c5"
  },
  "kernelspec": {
   "display_name": "Python 3.9.7 ('base')",
   "language": "python",
   "name": "python3"
  },
  "language_info": {
   "codemirror_mode": {
    "name": "ipython",
    "version": 3
   },
   "file_extension": ".py",
   "mimetype": "text/x-python",
   "name": "python",
   "nbconvert_exporter": "python",
   "pygments_lexer": "ipython3",
   "version": "3.9.7"
  },
  "orig_nbformat": 4
 },
 "nbformat": 4,
 "nbformat_minor": 2
}
