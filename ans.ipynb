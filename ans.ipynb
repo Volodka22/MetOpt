{
 "cells": [
  {
   "cell_type": "markdown",
   "metadata": {},
   "source": [
    "# Пункт 1: градиентный спуск и его исследование при разных значениях константного шага"
   ]
  },
  {
   "cell_type": "code",
   "execution_count": 24,
   "metadata": {},
   "outputs": [
    {
     "data": {
      "image/png": "[encoded data removed]",
      "text/plain": [
       "<Figure size 432x288 with 1 Axes>"
      ]
     },
     "metadata": {
      "needs_background": "light"
     },
     "output_type": "display_data"
    }
   ],
   "source": [
    "import numpy as np\n",
    "from math import *\n",
    "import matplotlib.pyplot as plt\n",
    "from numpy import linalg as LA\n",
    "def f(x) :\n",
    "    a = x[0]\n",
    "    return a**2 + 5*a + 10\n",
    "def grad(x, f) :\n",
    "\n",
    "    h = 1e-5\n",
    "    y = np.arange(np.size(x))\n",
    "    for i in range(np.size(x)):\n",
    "        x[i] += h\n",
    "        f1 = f(x)\n",
    "        x[i] -= 2*h\n",
    "        f2 = f(x)\n",
    "        x[i] += h\n",
    "        y[i] = (f1 - f2) / (2*h)\n",
    "    return y\n",
    "\n",
    "def next_x(x, alpha, f) : \n",
    "    return x - alpha(x) * grad(x, f)\n",
    "def get_min(f, eps, alpha, x) :\n",
    "    points = np.asarray([])\n",
    "    counter = 0\n",
    "    while (LA.norm(next_x(x, alpha, f) - x) > eps) :\n",
    "        counter += 1\n",
    "        points = np.append(points, x)\n",
    "        x = next_x(x, alpha, f)\n",
    "    return [x, counter, points]\n",
    "\n",
    "# Prepare the data\n",
    "x = np.linspace(0.1, 0.9, 1000)\n",
    "y = np.arange(np.size(x))\n",
    "for i in range(np.size(x)):\n",
    "    y[i] = get_min(f, 1e-6, (lambda a: x[i]), np.asarray([7.]))[1]\n",
    "\n",
    "# Plot the data\n",
    "plt.plot(x, y, label='counter')\n",
    "\n",
    "# Add a legend\n",
    "plt.xlabel(\"alpha\")\n",
    "plt.ylabel(\"counter\")\n",
    "plt.title(\"Сходимость при различных значениях шага\")\n",
    "\n",
    "# Show the plot\n",
    "plt.show()"
   ]
  },
  {
   "cell_type": "markdown",
   "metadata": {},
   "source": [
    "# Пункт 2: градиентный спуск и его исследование при разных функциях изменения шага"
   ]
  },
  {
   "cell_type": "code",
   "execution_count": 25,
   "metadata": {},
   "outputs": [
    {
     "name": "stdout",
     "output_type": "stream",
     "text": [
      "16\n",
      "14\n",
      "10\n"
     ]
    }
   ],
   "source": [
    "def find_lyambda_step_function(xs):\n",
    "    x = xs[0]\n",
    "    if(x<0) : \n",
    "        return 0\n",
    "    else :\n",
    "        return 1\n",
    "\n",
    "def find_lyambda_exponent_function(xs):\n",
    "    x = xs[0]\n",
    "    return pow(0.5, x)\n",
    "\n",
    "\n",
    "print(get_min(f, 1e-6, (lambda a: 0.1), np.asarray([7.]))[1])\n",
    "\n",
    "print(get_min(f, 1e-6, (lambda a: find_lyambda_step_function(x)), np.asarray([7.]))[1])\n",
    "\n",
    "print(get_min(f, 1e-6, (lambda a: find_lyambda_exponent_function(x)), np.asarray([7.]))[1])\n",
    "\n"
   ]
  },
  {
   "cell_type": "markdown",
   "metadata": {},
   "source": [
    "# Пункт 3: Сравнение дихотомии и градиентного спуска на его основе"
   ]
  },
  {
   "cell_type": "code",
   "execution_count": null,
   "metadata": {},
   "outputs": [],
   "source": []
  },
  {
   "cell_type": "markdown",
   "metadata": {},
   "source": [
    "# Пункт 5: анализ траектории градиентного спуска"
   ]
  },
  {
   "cell_type": "code",
   "execution_count": null,
   "metadata": {},
   "outputs": [],
   "source": []
  }
 ],
 "metadata": {
  "interpreter": {
   "hash": "3d5804ff283983d99c1091d159be37f8537d8a28a0a280f53e9f02313b23c0dd"
  },
  "kernelspec": {
   "display_name": "Python 3.9.7 ('monomo')",
   "language": "python",
   "name": "python3"
  },
  "language_info": {
   "codemirror_mode": {
    "name": "ipython",
    "version": 3
   },
   "file_extension": ".py",
   "mimetype": "text/x-python",
   "name": "python",
   "nbconvert_exporter": "python",
   "pygments_lexer": "ipython3",
   "version": "3.9.7"
  },
  "orig_nbformat": 4
 },
 "nbformat": 4,
 "nbformat_minor": 2
}
