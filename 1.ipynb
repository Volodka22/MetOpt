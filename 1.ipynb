{
 "cells": [
  {
   "cell_type": "code",
   "execution_count": 19,
   "metadata": {},
   "outputs": [],
   "source": [
    "import numpy as np\n",
    "from math import *"
   ]
  },
  {
   "cell_type": "code",
   "execution_count": 20,
   "metadata": {},
   "outputs": [],
   "source": [
    "def f(x) :\n",
    "    # return x**4 + 2 * x**3 + 20 * sin(x) * x**2\n",
    "    return x**2 + 5*x + 10"
   ]
  },
  {
   "cell_type": "code",
   "execution_count": 21,
   "metadata": {},
   "outputs": [],
   "source": [
    "def grad(x) :\n",
    "    # print(x)\n",
    "    # return 2 * x * (x * (3 + 2 * x) + 10 * x * cos(x) + 20 * sin(x))\n",
    "    return 2*x + 5"
   ]
  },
  {
   "cell_type": "code",
   "execution_count": 22,
   "metadata": {},
   "outputs": [],
   "source": [
    "def next_x(x, alpha, grad) : \n",
    "    return x - alpha * grad(x)"
   ]
  },
  {
   "cell_type": "code",
   "execution_count": 23,
   "metadata": {},
   "outputs": [],
   "source": [
    "def get_min(grad, eps, alpha) :\n",
    "    x = 0.5\n",
    "    while (abs(next_x(x, alpha, grad) - x) > eps) :\n",
    "        x = next_x(x, alpha, grad)\n",
    "    return x"
   ]
  },
  {
   "cell_type": "code",
   "execution_count": 24,
   "metadata": {},
   "outputs": [
    {
     "data": {
      "text/plain": [
       "3.750000000021137"
      ]
     },
     "execution_count": 24,
     "metadata": {},
     "output_type": "execute_result"
    }
   ],
   "source": [
    "f(get_min(grad, 1e-6, 0.1))"
   ]
  }
 ],
 "metadata": {
  "interpreter": {
   "hash": "3d5804ff283983d99c1091d159be37f8537d8a28a0a280f53e9f02313b23c0dd"
  },
  "kernelspec": {
   "display_name": "Python 3.9.7 ('monomo')",
   "language": "python",
   "name": "python3"
  },
  "language_info": {
   "codemirror_mode": {
    "name": "ipython",
    "version": 3
   },
   "file_extension": ".py",
   "mimetype": "text/x-python",
   "name": "python",
   "nbconvert_exporter": "python",
   "pygments_lexer": "ipython3",
   "version": "3.9.7"
  },
  "orig_nbformat": 4
 },
 "nbformat": 4,
 "nbformat_minor": 2
}
